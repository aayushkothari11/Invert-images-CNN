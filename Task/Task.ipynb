{
  "nbformat": 4,
  "nbformat_minor": 0,
  "metadata": {
    "colab": {
      "name": "Task.ipynb",
      "provenance": []
    },
    "kernelspec": {
      "name": "python3",
      "display_name": "Python 3"
    }
  },
  "cells": [
    {
      "cell_type": "code",
      "metadata": {
        "id": "gCBwHgcwAxff",
        "colab_type": "code",
        "colab": {}
      },
      "source": [
        "import json\n",
        "f = open('source_file_2.json',)\n",
        "data = json.load(f)"
      ],
      "execution_count": 14,
      "outputs": []
    },
    {
      "cell_type": "code",
      "metadata": {
        "id": "zHWPujYbBHhE",
        "colab_type": "code",
        "colab": {
          "base_uri": "https://localhost:8080/",
          "height": 55
        },
        "outputId": "e5e0c646-bc5e-469d-c169-5def4bde051e"
      },
      "source": [
        "print(data)"
      ],
      "execution_count": 15,
      "outputs": [
        {
          "output_type": "stream",
          "text": [
            "[{'name': '[CV] [Qt] OpenCV GUI', 'managers': ['csaftoiu', 'merlin'], 'watchers': ['merlin', 'morris'], 'priority': 850}, {'name': '[Web] pm-site', 'managers': ['merlin'], 'watchers': ['csaftoiu', 'jpfarias', 'morris'], 'priority': 260}, {'name': 'Annotations', 'managers': ['luanda'], 'watchers': ['csaftoiu', 'merlin', 'victor'], 'priority': 10}, {'name': '[OCR] tesseract MRZ reading ', 'managers': ['csaftoiu'], 'watchers': ['arturc', 'merlin'], 'priority': 560}, {'name': 'Deepgammon', 'managers': ['morris'], 'watchers': ['merlin', 'victor'], 'priority': 150}, {'name': 'python training lucas', 'managers': ['merlin'], 'watchers': ['csaftoiu', 'morris'], 'priority': 2160}, {'name': 'python training alysson', 'managers': ['merlin'], 'watchers': ['csaftoiu', 'morris'], 'priority': 2180}, {'name': 'unity render different passport text', 'managers': ['csaftoiu'], 'watchers': ['merlin', 'morris'], 'priority': 2230}, {'name': '[template] unity render passport text', 'managers': ['csaftoiu'], 'watchers': ['merlin', 'morris'], 'priority': 2235}, {'name': 'unity render diff passport text artur', 'managers': ['arturc', 'csaftoiu'], 'watchers': ['merlin', 'morris'], 'priority': 815}, {'name': 'unity render diff passport text - kennedy', 'managers': ['merlin'], 'watchers': ['csaftoiu', 'merlin', 'morris'], 'priority': 2260}, {'name': 'Unity Render Passport Text [Template]', 'managers': ['merlin'], 'watchers': ['csaftoiu', 'merlin', 'morris'], 'priority': 2265}, {'name': 'mateus silva bg deep checkers', 'managers': ['victor-mgr'], 'watchers': ['csaftoiu', 'merlin'], 'priority': 2295}, {'name': 'Android Camera App rrocha', 'managers': ['victor-mgr'], 'watchers': ['csaftoiu', 'merlin'], 'priority': 2300}, {'name': 'bg deep learning aporto', 'managers': ['victor-mgr'], 'watchers': ['csaftoiu', 'merlin'], 'priority': 2305}, {'name': 'bg deep checkers rvalentim', 'managers': ['victor-mgr'], 'watchers': ['csaftoiu', 'merlin'], 'priority': 2310}, {'name': 'tourney site famador', 'managers': ['victor-mgr'], 'watchers': ['csaftoiu', 'merlin'], 'priority': 2320}, {'name': 'chess board finder eliaquim', 'managers': ['merlin'], 'watchers': ['csaftoiu', 'victor-mgr'], 'priority': 2330}, {'name': 'tourney site ariel', 'managers': ['victor-mgr'], 'watchers': ['csaftoiu', 'merlin'], 'priority': 2340}, {'name': 'tourney site tbarbalho', 'managers': ['victor-mgr'], 'watchers': ['csaftoiu', 'merlin'], 'priority': 2345}, {'name': '[CHESS] Live Demo Executive', 'managers': ['merlin'], 'watchers': ['csaftoiu', 'morris'], 'priority': 750}, {'name': '[EXECUTIVE] Merlin', 'managers': ['merlin'], 'watchers': ['csaftoiu', 'jpfarias', 'merlin', 'morris'], 'priority': 20}, {'name': '[INHOUSE-TOOLS] NN-Webapp', 'managers': ['merlin'], 'watchers': ['csaftoiu', 'jpfarias', 'merlin', 'morris'], 'priority': 755}, {'name': '[INHOUSE-TOOLS] Annotators app', 'managers': ['merlin'], 'watchers': ['csaftoiu', 'jpfarias', 'morris'], 'priority': 760}, {'name': '[IOS-APPS] IOS streaming app', 'managers': ['merlin'], 'watchers': ['csaftoiu', 'jpfarias', 'morris'], 'priority': 2375}, {'name': '[IOS-APPS] IOS PI app', 'managers': ['merlin'], 'watchers': ['csaftoiu', 'jpfarias', 'morris'], 'priority': 2380}, {'name': '[HR] Candidate tests', 'managers': ['merlin'], 'watchers': ['csaftoiu', 'jpfarias', 'morris'], 'priority': 2385}, {'name': '[CHATBOT] merlin', 'managers': ['merlin'], 'watchers': ['csaftoiu', 'jpfarias', 'morris'], 'priority': 2390}, {'name': '[ID-VERIFY-PIPELINE] finger detector', 'managers': ['merlin'], 'watchers': ['csaftoiu', 'jpfarias', 'morris'], 'priority': 735}, {'name': '[ID-VERIFY-PIPELINE] Background evaluator', 'managers': ['merlin'], 'watchers': ['csaftoiu', 'jpfarias', 'morris'], 'priority': 2395}, {'name': '[ID-VERIFY-PIPELINE] Passport finder', 'managers': ['merlin'], 'watchers': ['csaftoiu', 'jpfarias', 'morris'], 'priority': 2400}, {'name': '[CHATBOT] rodrigo', 'managers': ['merlin'], 'watchers': ['csaftoiu', 'jpfarias', 'morris'], 'priority': 2405}, {'name': '[BG-CLUB-SITE] frontend', 'managers': ['ariel', 'merlin'], 'watchers': ['csaftoiu', 'jpfarias', 'morris'], 'priority': 2435}, {'name': 'morris bg data gathering', 'managers': ['victor'], 'watchers': ['csaftoiu', 'morris'], 'priority': 130}, {'name': 'sportsparsers - pinnacle API', 'managers': ['csaftoiu'], 'watchers': ['Alex', 'csaftoiu', 'morris'], 'priority': 340}, {'name': '[INHOUSE-TOOLS] NN-Webapp 2', 'managers': ['merlin'], 'watchers': ['csaftoiu', 'jpfarias', 'merlin', 'morris'], 'priority': 2520}, {'name': 'sportsparsers - tipster.de', 'managers': ['morris'], 'watchers': ['csaftoiu', 'merlin'], 'priority': 295}, {'name': 'sportsparsers - matchbook', 'managers': ['morris'], 'watchers': ['csaftoiu', 'merlin'], 'priority': 395}, {'name': 'matchbook parser - mfilho', 'managers': ['csaftoiu', 'morris'], 'watchers': ['jpfarias', 'merlin'], 'priority': 2575}, {'name': 'sportsparsers - gg.bet', 'managers': ['morris'], 'watchers': ['csaftoiu', 'merlin'], 'priority': 310}, {'name': 'sportsparsers - betway', 'managers': ['morris'], 'watchers': ['csaftoiu', 'merlin'], 'priority': 300}, {'name': 'Runningball Parser', 'managers': ['morris'], 'watchers': ['csaftoiu', 'merlin'], 'priority': 155}, {'name': 'sportsparsers - unikrn', 'managers': ['morris'], 'watchers': ['csaftoiu', 'merlin'], 'priority': 145}, {'name': 'sportsparsers - unibet', 'managers': ['morris'], 'watchers': ['csaftoiu', 'merlin'], 'priority': 250}, {'name': 'sportsparsers - esportscalendar', 'managers': ['morris'], 'watchers': ['csaftoiu', 'merlin'], 'priority': 55}, {'name': 'sportsparsers - 22bet', 'managers': ['morris'], 'watchers': ['csaftoiu', 'merlin'], 'priority': 45}]\n"
          ],
          "name": "stdout"
        }
      ]
    },
    {
      "cell_type": "code",
      "metadata": {
        "id": "sXInnjLGBctB",
        "colab_type": "code",
        "colab": {
          "base_uri": "https://localhost:8080/",
          "height": 55
        },
        "outputId": "4eafb20c-be0f-4597-c214-0355ed41544a"
      },
      "source": [
        "name = []\n",
        "priority = []\n",
        "watchers = []\n",
        "managers = []\n",
        "for i in data:\n",
        "  name.append(i[\"name\"])\n",
        "  priority.append(i[\"priority\"])\n",
        "  watchers.append(i[\"watchers\"])\n",
        "  managers.append(i[\"managers\"])\n",
        "\n",
        "print(name)"
      ],
      "execution_count": 16,
      "outputs": [
        {
          "output_type": "stream",
          "text": [
            "['[CV] [Qt] OpenCV GUI', '[Web] pm-site', 'Annotations', '[OCR] tesseract MRZ reading ', 'Deepgammon', 'python training lucas', 'python training alysson', 'unity render different passport text', '[template] unity render passport text', 'unity render diff passport text artur', 'unity render diff passport text - kennedy', 'Unity Render Passport Text [Template]', 'mateus silva bg deep checkers', 'Android Camera App rrocha', 'bg deep learning aporto', 'bg deep checkers rvalentim', 'tourney site famador', 'chess board finder eliaquim', 'tourney site ariel', 'tourney site tbarbalho', '[CHESS] Live Demo Executive', '[EXECUTIVE] Merlin', '[INHOUSE-TOOLS] NN-Webapp', '[INHOUSE-TOOLS] Annotators app', '[IOS-APPS] IOS streaming app', '[IOS-APPS] IOS PI app', '[HR] Candidate tests', '[CHATBOT] merlin', '[ID-VERIFY-PIPELINE] finger detector', '[ID-VERIFY-PIPELINE] Background evaluator', '[ID-VERIFY-PIPELINE] Passport finder', '[CHATBOT] rodrigo', '[BG-CLUB-SITE] frontend', 'morris bg data gathering', 'sportsparsers - pinnacle API', '[INHOUSE-TOOLS] NN-Webapp 2', 'sportsparsers - tipster.de', 'sportsparsers - matchbook', 'matchbook parser - mfilho', 'sportsparsers - gg.bet', 'sportsparsers - betway', 'Runningball Parser', 'sportsparsers - unikrn', 'sportsparsers - unibet', 'sportsparsers - esportscalendar', 'sportsparsers - 22bet']\n"
          ],
          "name": "stdout"
        }
      ]
    },
    {
      "cell_type": "code",
      "metadata": {
        "id": "Dif7wbxZBx8-",
        "colab_type": "code",
        "colab": {
          "base_uri": "https://localhost:8080/",
          "height": 53
        },
        "outputId": "508109c5-bb55-44a7-e56a-5ec58fbe886d"
      },
      "source": [
        "unique_watchers = set(watcher for i in watchers for watcher in i)\n",
        "unique_managers = set(manager for i in managers for manager in i)\n",
        "\n",
        "print(unique_watchers)\n",
        "print(unique_managers)"
      ],
      "execution_count": 17,
      "outputs": [
        {
          "output_type": "stream",
          "text": [
            "{'merlin', 'victor-mgr', 'arturc', 'victor', 'Alex', 'csaftoiu', 'jpfarias', 'morris'}\n",
            "{'merlin', 'victor-mgr', 'arturc', 'ariel', 'victor', 'csaftoiu', 'morris', 'luanda'}\n"
          ],
          "name": "stdout"
        }
      ]
    },
    {
      "cell_type": "code",
      "metadata": {
        "id": "MaqwIhZVCnnE",
        "colab_type": "code",
        "colab": {
          "base_uri": "https://localhost:8080/",
          "height": 55
        },
        "outputId": "0d574b3b-8dfc-4d25-e712-d751af1847a0"
      },
      "source": [
        "ans_dict = {}\n",
        "\n",
        "temp_list = []\n",
        "for manager in unique_managers:\n",
        "  temp_dict = {}\n",
        "  for n,p,m in zip(name,priority,managers):\n",
        "    if manager in m:\n",
        "      temp_dict[n] = p\n",
        "  order_of_projects = [k for k, v in sorted(temp_dict.items(), key=lambda item: item[1])]\n",
        "  \n",
        "  ans_dict[manager] = order_of_projects\n",
        "\n",
        "print(ans_dict)\n",
        "\n",
        "with open('managers.json', 'w') as fp:\n",
        "    json.dump(ans_dict, fp)"
      ],
      "execution_count": 18,
      "outputs": [
        {
          "output_type": "stream",
          "text": [
            "{'merlin': ['[EXECUTIVE] Merlin', '[Web] pm-site', '[ID-VERIFY-PIPELINE] finger detector', '[CHESS] Live Demo Executive', '[INHOUSE-TOOLS] NN-Webapp', '[INHOUSE-TOOLS] Annotators app', '[CV] [Qt] OpenCV GUI', 'python training lucas', 'python training alysson', 'unity render diff passport text - kennedy', 'Unity Render Passport Text [Template]', 'chess board finder eliaquim', '[IOS-APPS] IOS streaming app', '[IOS-APPS] IOS PI app', '[HR] Candidate tests', '[CHATBOT] merlin', '[ID-VERIFY-PIPELINE] Background evaluator', '[ID-VERIFY-PIPELINE] Passport finder', '[CHATBOT] rodrigo', '[BG-CLUB-SITE] frontend', '[INHOUSE-TOOLS] NN-Webapp 2'], 'victor-mgr': ['mateus silva bg deep checkers', 'Android Camera App rrocha', 'bg deep learning aporto', 'bg deep checkers rvalentim', 'tourney site famador', 'tourney site ariel', 'tourney site tbarbalho'], 'arturc': ['unity render diff passport text artur'], 'ariel': ['[BG-CLUB-SITE] frontend'], 'victor': ['morris bg data gathering'], 'csaftoiu': ['sportsparsers - pinnacle API', '[OCR] tesseract MRZ reading ', 'unity render diff passport text artur', '[CV] [Qt] OpenCV GUI', 'unity render different passport text', '[template] unity render passport text', 'matchbook parser - mfilho'], 'morris': ['sportsparsers - 22bet', 'sportsparsers - esportscalendar', 'sportsparsers - unikrn', 'Deepgammon', 'Runningball Parser', 'sportsparsers - unibet', 'sportsparsers - tipster.de', 'sportsparsers - betway', 'sportsparsers - gg.bet', 'sportsparsers - matchbook', 'matchbook parser - mfilho'], 'luanda': ['Annotations']}\n"
          ],
          "name": "stdout"
        }
      ]
    },
    {
      "cell_type": "code",
      "metadata": {
        "id": "7LNx3-xRDP2h",
        "colab_type": "code",
        "colab": {
          "base_uri": "https://localhost:8080/",
          "height": 55
        },
        "outputId": "95bd370a-d47a-43f2-ceb5-ea7c457d9c33"
      },
      "source": [
        "ans_dict = {}\n",
        "\n",
        "temp_list = []\n",
        "for watcher in unique_watchers:\n",
        "  temp_dict = {}\n",
        "  for n,p,w in zip(name,priority,watchers):\n",
        "    if watcher in w:\n",
        "      temp_dict[n] = p\n",
        "  order_of_projects = [k for k, v in sorted(temp_dict.items(), key=lambda item: item[1])]\n",
        "  \n",
        "  ans_dict[watcher] = order_of_projects\n",
        "\n",
        "print(ans_dict)\n",
        "\n",
        "with open('watchers.json', 'w') as fp:\n",
        "    json.dump(ans_dict, fp)"
      ],
      "execution_count": 19,
      "outputs": [
        {
          "output_type": "stream",
          "text": [
            "{'merlin': ['Annotations', '[EXECUTIVE] Merlin', 'sportsparsers - 22bet', 'sportsparsers - esportscalendar', 'sportsparsers - unikrn', 'Deepgammon', 'Runningball Parser', 'sportsparsers - unibet', 'sportsparsers - tipster.de', 'sportsparsers - betway', 'sportsparsers - gg.bet', 'sportsparsers - matchbook', '[OCR] tesseract MRZ reading ', '[INHOUSE-TOOLS] NN-Webapp', 'unity render diff passport text artur', '[CV] [Qt] OpenCV GUI', 'unity render different passport text', '[template] unity render passport text', 'unity render diff passport text - kennedy', 'Unity Render Passport Text [Template]', 'mateus silva bg deep checkers', 'Android Camera App rrocha', 'bg deep learning aporto', 'bg deep checkers rvalentim', 'tourney site famador', 'tourney site ariel', 'tourney site tbarbalho', '[INHOUSE-TOOLS] NN-Webapp 2', 'matchbook parser - mfilho'], 'victor-mgr': ['chess board finder eliaquim'], 'arturc': ['[OCR] tesseract MRZ reading '], 'victor': ['Annotations', 'Deepgammon'], 'Alex': ['sportsparsers - pinnacle API'], 'csaftoiu': ['Annotations', '[EXECUTIVE] Merlin', 'sportsparsers - 22bet', 'sportsparsers - esportscalendar', 'morris bg data gathering', 'sportsparsers - unikrn', 'Runningball Parser', 'sportsparsers - unibet', '[Web] pm-site', 'sportsparsers - tipster.de', 'sportsparsers - betway', 'sportsparsers - gg.bet', 'sportsparsers - pinnacle API', 'sportsparsers - matchbook', '[ID-VERIFY-PIPELINE] finger detector', '[CHESS] Live Demo Executive', '[INHOUSE-TOOLS] NN-Webapp', '[INHOUSE-TOOLS] Annotators app', 'python training lucas', 'python training alysson', 'unity render diff passport text - kennedy', 'Unity Render Passport Text [Template]', 'mateus silva bg deep checkers', 'Android Camera App rrocha', 'bg deep learning aporto', 'bg deep checkers rvalentim', 'tourney site famador', 'chess board finder eliaquim', 'tourney site ariel', 'tourney site tbarbalho', '[IOS-APPS] IOS streaming app', '[IOS-APPS] IOS PI app', '[HR] Candidate tests', '[CHATBOT] merlin', '[ID-VERIFY-PIPELINE] Background evaluator', '[ID-VERIFY-PIPELINE] Passport finder', '[CHATBOT] rodrigo', '[BG-CLUB-SITE] frontend', '[INHOUSE-TOOLS] NN-Webapp 2'], 'jpfarias': ['[EXECUTIVE] Merlin', '[Web] pm-site', '[ID-VERIFY-PIPELINE] finger detector', '[INHOUSE-TOOLS] NN-Webapp', '[INHOUSE-TOOLS] Annotators app', '[IOS-APPS] IOS streaming app', '[IOS-APPS] IOS PI app', '[HR] Candidate tests', '[CHATBOT] merlin', '[ID-VERIFY-PIPELINE] Background evaluator', '[ID-VERIFY-PIPELINE] Passport finder', '[CHATBOT] rodrigo', '[BG-CLUB-SITE] frontend', '[INHOUSE-TOOLS] NN-Webapp 2', 'matchbook parser - mfilho'], 'morris': ['[EXECUTIVE] Merlin', 'morris bg data gathering', '[Web] pm-site', 'sportsparsers - pinnacle API', '[ID-VERIFY-PIPELINE] finger detector', '[CHESS] Live Demo Executive', '[INHOUSE-TOOLS] NN-Webapp', '[INHOUSE-TOOLS] Annotators app', 'unity render diff passport text artur', '[CV] [Qt] OpenCV GUI', 'python training lucas', 'python training alysson', 'unity render different passport text', '[template] unity render passport text', 'unity render diff passport text - kennedy', 'Unity Render Passport Text [Template]', '[IOS-APPS] IOS streaming app', '[IOS-APPS] IOS PI app', '[HR] Candidate tests', '[CHATBOT] merlin', '[ID-VERIFY-PIPELINE] Background evaluator', '[ID-VERIFY-PIPELINE] Passport finder', '[CHATBOT] rodrigo', '[BG-CLUB-SITE] frontend', '[INHOUSE-TOOLS] NN-Webapp 2']}\n"
          ],
          "name": "stdout"
        }
      ]
    },
    {
      "cell_type": "code",
      "metadata": {
        "id": "LDN77irpEv9H",
        "colab_type": "code",
        "colab": {}
      },
      "source": [
        ""
      ],
      "execution_count": null,
      "outputs": []
    }
  ]
}