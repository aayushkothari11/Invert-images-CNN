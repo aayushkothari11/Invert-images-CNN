{
  "nbformat": 4,
  "nbformat_minor": 0,
  "metadata": {
    "colab": {
      "name": "Image_rotation.ipynb",
      "provenance": []
    },
    "kernelspec": {
      "name": "python3",
      "display_name": "Python 3"
    },
    "accelerator": "GPU"
  },
  "cells": [
    {
      "cell_type": "code",
      "metadata": {
        "id": "2dtyVxbG4AxS",
        "colab_type": "code",
        "colab": {}
      },
      "source": [
        "%%capture\n",
        "\n",
        "!pip install PyDrive\n",
        "\n",
        "from pydrive.auth import GoogleAuth\n",
        "from pydrive.drive import GoogleDrive\n",
        "from google.colab import auth\n",
        "from oauth2client.client import GoogleCredentials"
      ],
      "execution_count": 1,
      "outputs": []
    },
    {
      "cell_type": "code",
      "metadata": {
        "id": "OKclFhW-5Mv_",
        "colab_type": "code",
        "colab": {}
      },
      "source": [
        "# Authenticate and create the PyDrive client.\n",
        "# This only needs to be done once in a notebook.\n",
        "auth.authenticate_user()\n",
        "gauth = GoogleAuth()\n",
        "gauth.credentials = GoogleCredentials.get_application_default()\n",
        "drive = GoogleDrive(gauth)"
      ],
      "execution_count": 2,
      "outputs": []
    },
    {
      "cell_type": "code",
      "metadata": {
        "id": "a0WgG6at5P1i",
        "colab_type": "code",
        "colab": {}
      },
      "source": [
        "fileId = drive.CreateFile({'id': '1dGB9Lp70ania8L8DwXSI77YzwKsMuIBq'}) \n",
        "fileId.GetContentFile('temp.zip')  # Save Drive file as a local file"
      ],
      "execution_count": 3,
      "outputs": []
    },
    {
      "cell_type": "code",
      "metadata": {
        "id": "1GRTT-O-5sVH",
        "colab_type": "code",
        "colab": {}
      },
      "source": [
        "import matplotlib.pyplot as plt\n",
        "import numpy as np\n",
        "import random\n",
        "import os\n",
        "import pandas as pd\n",
        "from pathlib import Path\n",
        "from IPython.display import display \n",
        "from PIL import Image\n",
        "from keras.preprocessing import image\n",
        "from keras.preprocessing.image import ImageDataGenerator\n",
        "from keras.optimizers import Adam\n",
        "from keras.preprocessing.image import img_to_array\n",
        "from sklearn.preprocessing import LabelBinarizer\n",
        "from sklearn.model_selection import train_test_split\n",
        "from keras.models import Sequential\n",
        "from keras.layers import Dense, Flatten\n",
        "from keras.layers.convolutional import Conv2D, MaxPooling2D\n",
        "from keras.layers.core import Activation\n",
        "from keras.layers.normalization import BatchNormalization\n",
        "from keras.layers.core import Dropout"
      ],
      "execution_count": 4,
      "outputs": []
    },
    {
      "cell_type": "code",
      "metadata": {
        "id": "dI5DG0zp53hR",
        "colab_type": "code",
        "colab": {}
      },
      "source": [
        "!unzip temp.zip -d ./"
      ],
      "execution_count": null,
      "outputs": []
    },
    {
      "cell_type": "code",
      "metadata": {
        "id": "W2yjsOS1572N",
        "colab_type": "code",
        "colab": {}
      },
      "source": [
        "df = pd.read_csv('train.truth.csv')"
      ],
      "execution_count": 6,
      "outputs": []
    },
    {
      "cell_type": "code",
      "metadata": {
        "id": "4rgU9f9W7ODe",
        "colab_type": "code",
        "colab": {
          "base_uri": "https://localhost:8080/",
          "height": 204
        },
        "outputId": "6245aa0d-f679-41e2-df35-f9670591e07a"
      },
      "source": [
        "df.head()"
      ],
      "execution_count": 7,
      "outputs": [
        {
          "output_type": "execute_result",
          "data": {
            "text/html": [
              "<div>\n",
              "<style scoped>\n",
              "    .dataframe tbody tr th:only-of-type {\n",
              "        vertical-align: middle;\n",
              "    }\n",
              "\n",
              "    .dataframe tbody tr th {\n",
              "        vertical-align: top;\n",
              "    }\n",
              "\n",
              "    .dataframe thead th {\n",
              "        text-align: right;\n",
              "    }\n",
              "</style>\n",
              "<table border=\"1\" class=\"dataframe\">\n",
              "  <thead>\n",
              "    <tr style=\"text-align: right;\">\n",
              "      <th></th>\n",
              "      <th>fn</th>\n",
              "      <th>label</th>\n",
              "    </tr>\n",
              "  </thead>\n",
              "  <tbody>\n",
              "    <tr>\n",
              "      <th>0</th>\n",
              "      <td>0-10049200_1891-09-16_1958.jpg</td>\n",
              "      <td>rotated_left</td>\n",
              "    </tr>\n",
              "    <tr>\n",
              "      <th>1</th>\n",
              "      <td>0-10110600_1985-09-17_2012.jpg</td>\n",
              "      <td>rotated_left</td>\n",
              "    </tr>\n",
              "    <tr>\n",
              "      <th>2</th>\n",
              "      <td>0-10126400_1964-07-07_2010.jpg</td>\n",
              "      <td>upright</td>\n",
              "    </tr>\n",
              "    <tr>\n",
              "      <th>3</th>\n",
              "      <td>0-1013900_1917-10-15_1960.jpg</td>\n",
              "      <td>rotated_right</td>\n",
              "    </tr>\n",
              "    <tr>\n",
              "      <th>4</th>\n",
              "      <td>0-10166400_1960-03-12_2008.jpg</td>\n",
              "      <td>upside_down</td>\n",
              "    </tr>\n",
              "  </tbody>\n",
              "</table>\n",
              "</div>"
            ],
            "text/plain": [
              "                               fn          label\n",
              "0  0-10049200_1891-09-16_1958.jpg   rotated_left\n",
              "1  0-10110600_1985-09-17_2012.jpg   rotated_left\n",
              "2  0-10126400_1964-07-07_2010.jpg        upright\n",
              "3   0-1013900_1917-10-15_1960.jpg  rotated_right\n",
              "4  0-10166400_1960-03-12_2008.jpg    upside_down"
            ]
          },
          "metadata": {
            "tags": []
          },
          "execution_count": 7
        }
      ]
    },
    {
      "cell_type": "code",
      "metadata": {
        "id": "fTrKB3E48idf",
        "colab_type": "code",
        "colab": {}
      },
      "source": [
        "import glob\n",
        "images = []\n",
        "labels = []\n",
        "total = 0\n",
        "for img_path in glob.glob('train/*.jpg'):\n",
        "    img = image.load_img(img_path, target_size=(64, 64))\n",
        "    img_array = image.img_to_array(img)\n",
        "    images.append(img_array)\n",
        "    path = img_path.split('/')[1]\n",
        "    labels.append(df.loc[df['fn'] == path, 'label'].iloc[0])\n",
        "    total += 1"
      ],
      "execution_count": 8,
      "outputs": []
    },
    {
      "cell_type": "code",
      "metadata": {
        "id": "xIUL5ZMTFns2",
        "colab_type": "code",
        "colab": {
          "base_uri": "https://localhost:8080/",
          "height": 71
        },
        "outputId": "c7fd10e8-5df0-449e-be9e-e3e164710362"
      },
      "source": [
        "print(len(images))\n",
        "print(len(labels ))\n",
        "print('There are' ,total,\"images\")"
      ],
      "execution_count": 9,
      "outputs": [
        {
          "output_type": "stream",
          "text": [
            "48896\n",
            "48896\n",
            "There are 48896 images\n"
          ],
          "name": "stdout"
        }
      ]
    },
    {
      "cell_type": "code",
      "metadata": {
        "id": "ki2SSGNJIChf",
        "colab_type": "code",
        "colab": {}
      },
      "source": [
        "data = np.array(images, dtype=\"float\") / 255.0\n",
        "labels = np.array(labels)"
      ],
      "execution_count": 10,
      "outputs": []
    },
    {
      "cell_type": "code",
      "metadata": {
        "id": "M9wqqYV4Mbk8",
        "colab_type": "code",
        "colab": {
          "base_uri": "https://localhost:8080/",
          "height": 35
        },
        "outputId": "8d8465dd-61e9-443d-e4a2-b37cbec92f66"
      },
      "source": [
        "data.shape"
      ],
      "execution_count": 11,
      "outputs": [
        {
          "output_type": "execute_result",
          "data": {
            "text/plain": [
              "(48896, 64, 64, 3)"
            ]
          },
          "metadata": {
            "tags": []
          },
          "execution_count": 11
        }
      ]
    },
    {
      "cell_type": "code",
      "metadata": {
        "id": "PcJWvVGoMfLo",
        "colab_type": "code",
        "colab": {
          "base_uri": "https://localhost:8080/",
          "height": 35
        },
        "outputId": "5c1ac9c7-e0c7-4902-fd38-c77d9deb1bd1"
      },
      "source": [
        "labels.shape"
      ],
      "execution_count": 12,
      "outputs": [
        {
          "output_type": "execute_result",
          "data": {
            "text/plain": [
              "(48896,)"
            ]
          },
          "metadata": {
            "tags": []
          },
          "execution_count": 12
        }
      ]
    },
    {
      "cell_type": "code",
      "metadata": {
        "id": "Rtu_DD38MgR4",
        "colab_type": "code",
        "colab": {}
      },
      "source": [
        "lb = LabelBinarizer()\n",
        "labels = lb.fit_transform(labels)"
      ],
      "execution_count": 13,
      "outputs": []
    },
    {
      "cell_type": "code",
      "metadata": {
        "id": "0g8tUD35MvU7",
        "colab_type": "code",
        "colab": {}
      },
      "source": [
        "input_shape = data[0].shape"
      ],
      "execution_count": 14,
      "outputs": []
    },
    {
      "cell_type": "code",
      "metadata": {
        "id": "LToY7ULPMyxd",
        "colab_type": "code",
        "colab": {
          "base_uri": "https://localhost:8080/",
          "height": 35
        },
        "outputId": "07217911-1ef2-4766-cd8b-b6e303fa9661"
      },
      "source": [
        "input_shape"
      ],
      "execution_count": 15,
      "outputs": [
        {
          "output_type": "execute_result",
          "data": {
            "text/plain": [
              "(64, 64, 3)"
            ]
          },
          "metadata": {
            "tags": []
          },
          "execution_count": 15
        }
      ]
    },
    {
      "cell_type": "code",
      "metadata": {
        "id": "CfbCSUVoM0eL",
        "colab_type": "code",
        "colab": {}
      },
      "source": [
        "model = Sequential()\n",
        "model.add(Conv2D(64, (3, 3), input_shape=input_shape, padding='same'))\n",
        "model.add(Activation(\"relu\"))\n",
        "model.add(BatchNormalization(axis=-1))\n",
        "model.add(Conv2D(64, (3, 3),padding='same'))\n",
        "model.add(Activation(\"relu\"))\n",
        "model.add(BatchNormalization(axis=-1))\n",
        "model.add(MaxPooling2D(pool_size=(2, 2)))\n",
        "model.add(Dropout(0.5))\n",
        "model.add(Conv2D(128, (3, 3), padding='same'))\n",
        "model.add(Activation(\"relu\"))\n",
        "model.add(BatchNormalization(axis=-1))\n",
        "model.add(Conv2D(128, (3, 3), padding='same'))\n",
        "model.add(Activation(\"relu\"))\n",
        "model.add(BatchNormalization(axis=-1))\n",
        "model.add(MaxPooling2D(pool_size=(2, 2)))\n",
        "model.add(Dropout(0.5))\n",
        "model.add(Conv2D(256, (3, 3), padding='same'))\n",
        "model.add(Activation(\"relu\"))\n",
        "model.add(BatchNormalization(axis=-1))\n",
        "model.add(Conv2D(256, (3, 3),  padding='same'))\n",
        "model.add(Activation(\"relu\"))\n",
        "model.add(BatchNormalization(axis=-1))\n",
        "model.add(Conv2D(256, (3, 3),  padding='same'))\n",
        "model.add(Activation(\"relu\"))\n",
        "model.add(BatchNormalization(axis=-1))\n",
        "model.add(MaxPooling2D(pool_size=(2, 2)))\n",
        "model.add(Dropout(0.5))\n",
        "model.add(Conv2D(512, (3, 3), padding='same'))\n",
        "model.add(Activation(\"relu\"))\n",
        "model.add(BatchNormalization(axis=-1))\n",
        "model.add(Conv2D(512, (3, 3),  padding='same'))\n",
        "model.add(Activation(\"relu\"))\n",
        "model.add(BatchNormalization(axis=-1))\n",
        "model.add(Conv2D(512, (3, 3),  padding='same'))\n",
        "model.add(Activation(\"relu\"))\n",
        "model.add(BatchNormalization(axis=-1))\n",
        "model.add(MaxPooling2D(pool_size=(2, 2)))\n",
        "model.add(Dropout(0.5))\n",
        "model.add(Conv2D(512, (3, 3), padding='same'))\n",
        "model.add(Activation(\"relu\"))\n",
        "model.add(BatchNormalization(axis=-1))\n",
        "model.add(Conv2D(512, (3, 3),  padding='same'))\n",
        "model.add(Activation(\"relu\"))\n",
        "model.add(BatchNormalization(axis=-1))\n",
        "model.add(Conv2D(512, (3, 3),  padding='same'))\n",
        "model.add(Activation(\"relu\"))\n",
        "model.add(BatchNormalization(axis=-1))\n",
        "model.add(MaxPooling2D(pool_size=(2, 2)))\n",
        "model.add(Dropout(0.5))\n",
        "model.add(Flatten())\n",
        "model.add(Dense(4096))\n",
        "model.add(Activation(\"relu\"))\n",
        "model.add(BatchNormalization())\n",
        "model.add(Dropout(0.5))\n",
        "model.add(Dense(4096))\n",
        "model.add(Activation(\"relu\"))\n",
        "model.add(BatchNormalization())\n",
        "model.add(Dropout(0.5))\n",
        "model.add(Dense(4))\n",
        "model.add(Activation(\"softmax\"))"
      ],
      "execution_count": 16,
      "outputs": []
    },
    {
      "cell_type": "code",
      "metadata": {
        "id": "r_upmUJ2NFCP",
        "colab_type": "code",
        "colab": {}
      },
      "source": [
        "EPOCHS = 10\n",
        "INIT_LR = 1e-3\n",
        "BS = 128\n",
        "model.compile(loss=\"categorical_crossentropy\", optimizer=Adam(lr=INIT_LR, decay=INIT_LR / EPOCHS), metrics=[\"accuracy\"])"
      ],
      "execution_count": 17,
      "outputs": []
    },
    {
      "cell_type": "code",
      "metadata": {
        "id": "TkSuWqSCNSLX",
        "colab_type": "code",
        "colab": {
          "base_uri": "https://localhost:8080/",
          "height": 415
        },
        "outputId": "af9be909-408c-46da-cd8a-d43a282918ab"
      },
      "source": [
        "H = model.fit(x=data, y=labels, epochs=EPOCHS, verbose=1)"
      ],
      "execution_count": 18,
      "outputs": [
        {
          "output_type": "stream",
          "text": [
            "Epoch 1/10\n",
            "   2/1528 [..............................] - ETA: 1:44 - loss: 3.1144 - accuracy: 0.2969WARNING:tensorflow:Callbacks method `on_train_batch_end` is slow compared to the batch time (batch time: 0.0238s vs `on_train_batch_end` time: 0.1115s). Check your callbacks.\n",
            "1528/1528 [==============================] - 190s 124ms/step - loss: 1.8112 - accuracy: 0.4149\n",
            "Epoch 2/10\n",
            "1528/1528 [==============================] - 191s 125ms/step - loss: 0.6464 - accuracy: 0.8187\n",
            "Epoch 3/10\n",
            "1528/1528 [==============================] - 191s 125ms/step - loss: 0.1558 - accuracy: 0.9485\n",
            "Epoch 4/10\n",
            "1528/1528 [==============================] - 191s 125ms/step - loss: 0.1094 - accuracy: 0.9645\n",
            "Epoch 5/10\n",
            "1528/1528 [==============================] - 191s 125ms/step - loss: 0.0901 - accuracy: 0.9709\n",
            "Epoch 6/10\n",
            "1528/1528 [==============================] - 191s 125ms/step - loss: 0.1020 - accuracy: 0.9678\n",
            "Epoch 7/10\n",
            "1528/1528 [==============================] - 191s 125ms/step - loss: 0.0741 - accuracy: 0.9765\n",
            "Epoch 8/10\n",
            "1528/1528 [==============================] - 191s 125ms/step - loss: 0.0556 - accuracy: 0.9816\n",
            "Epoch 9/10\n",
            "1528/1528 [==============================] - 191s 125ms/step - loss: 0.0540 - accuracy: 0.9825\n",
            "Epoch 10/10\n",
            "1528/1528 [==============================] - 191s 125ms/step - loss: 0.0473 - accuracy: 0.9845\n"
          ],
          "name": "stdout"
        }
      ]
    },
    {
      "cell_type": "code",
      "metadata": {
        "id": "iTdKZFNuWKhH",
        "colab_type": "code",
        "colab": {}
      },
      "source": [
        "fileTest = drive.CreateFile({'id': '1fWXqatTYVgeITF6ozAeMY9pePyUTOJW5'}) \n",
        "fileTest.GetContentFile('test.zip')  # Save Drive file as a local file"
      ],
      "execution_count": 19,
      "outputs": []
    },
    {
      "cell_type": "code",
      "metadata": {
        "id": "VcNS23UMWLMR",
        "colab_type": "code",
        "colab": {}
      },
      "source": [
        "!unzip test.zip -d ./"
      ],
      "execution_count": null,
      "outputs": []
    },
    {
      "cell_type": "code",
      "metadata": {
        "id": "3_oMle9JWK-F",
        "colab_type": "code",
        "colab": {}
      },
      "source": [
        "import glob\n",
        "images = []\n",
        "image_path = []\n",
        "total = 0\n",
        "for img_path in glob.glob('test/*.jpg'):\n",
        "    img = image.load_img(img_path, target_size=(64, 64))\n",
        "    img_array = image.img_to_array(img)\n",
        "    images.append(img_array)\n",
        "    path = img_path.split('/')[1]\n",
        "    image_path.append(path)\n",
        "    total += 1"
      ],
      "execution_count": 40,
      "outputs": []
    },
    {
      "cell_type": "code",
      "metadata": {
        "id": "nz_S6wFLWfBK",
        "colab_type": "code",
        "colab": {
          "base_uri": "https://localhost:8080/",
          "height": 35
        },
        "outputId": "29957055-f6e8-4e62-b467-4a274e5a86e6"
      },
      "source": [
        "print('There are' ,total,\"test images\")"
      ],
      "execution_count": 41,
      "outputs": [
        {
          "output_type": "stream",
          "text": [
            "There are 5361 test images\n"
          ],
          "name": "stdout"
        }
      ]
    },
    {
      "cell_type": "code",
      "metadata": {
        "id": "qPZbmiNNaKJl",
        "colab_type": "code",
        "colab": {}
      },
      "source": [
        "data = np.array(images, dtype=\"float\") / 255.0"
      ],
      "execution_count": 42,
      "outputs": []
    },
    {
      "cell_type": "code",
      "metadata": {
        "id": "Gp9BBvlcWe-v",
        "colab_type": "code",
        "colab": {}
      },
      "source": [
        "preds = model.predict(data)"
      ],
      "execution_count": 43,
      "outputs": []
    },
    {
      "cell_type": "code",
      "metadata": {
        "id": "--t0kYW4NXyu",
        "colab_type": "code",
        "colab": {}
      },
      "source": [
        "y_test_original = lb.inverse_transform(preds)"
      ],
      "execution_count": 44,
      "outputs": []
    },
    {
      "cell_type": "code",
      "metadata": {
        "id": "6tO6JZoDYZnC",
        "colab_type": "code",
        "colab": {
          "base_uri": "https://localhost:8080/",
          "height": 35
        },
        "outputId": "2d7b616d-3dbf-47a8-d284-7a4f9df536a0"
      },
      "source": [
        "y_test_original.shape"
      ],
      "execution_count": 45,
      "outputs": [
        {
          "output_type": "execute_result",
          "data": {
            "text/plain": [
              "(5361,)"
            ]
          },
          "metadata": {
            "tags": []
          },
          "execution_count": 45
        }
      ]
    },
    {
      "cell_type": "code",
      "metadata": {
        "id": "OLjyKwYga9fR",
        "colab_type": "code",
        "colab": {
          "base_uri": "https://localhost:8080/",
          "height": 35
        },
        "outputId": "4b72321b-b214-4fb7-ff0b-0a0a08e603ba"
      },
      "source": [
        "y_test_original[0]"
      ],
      "execution_count": 46,
      "outputs": [
        {
          "output_type": "execute_result",
          "data": {
            "application/vnd.google.colaboratory.intrinsic+json": {
              "type": "string"
            },
            "text/plain": [
              "'rotated_left'"
            ]
          },
          "metadata": {
            "tags": []
          },
          "execution_count": 46
        }
      ]
    },
    {
      "cell_type": "code",
      "metadata": {
        "id": "PvzHsGzCbEJf",
        "colab_type": "code",
        "colab": {}
      },
      "source": [
        "ans = pd.DataFrame({'fn':image_path, 'label':y_test_original})"
      ],
      "execution_count": 47,
      "outputs": []
    },
    {
      "cell_type": "code",
      "metadata": {
        "id": "eL0ejc1Ebwu6",
        "colab_type": "code",
        "colab": {
          "base_uri": "https://localhost:8080/",
          "height": 204
        },
        "outputId": "664974c0-695e-46f4-ea34-0d7d2d99c7e3"
      },
      "source": [
        "ans.head()"
      ],
      "execution_count": 48,
      "outputs": [
        {
          "output_type": "execute_result",
          "data": {
            "text/html": [
              "<div>\n",
              "<style scoped>\n",
              "    .dataframe tbody tr th:only-of-type {\n",
              "        vertical-align: middle;\n",
              "    }\n",
              "\n",
              "    .dataframe tbody tr th {\n",
              "        vertical-align: top;\n",
              "    }\n",
              "\n",
              "    .dataframe thead th {\n",
              "        text-align: right;\n",
              "    }\n",
              "</style>\n",
              "<table border=\"1\" class=\"dataframe\">\n",
              "  <thead>\n",
              "    <tr style=\"text-align: right;\">\n",
              "      <th></th>\n",
              "      <th>fn</th>\n",
              "      <th>label</th>\n",
              "    </tr>\n",
              "  </thead>\n",
              "  <tbody>\n",
              "    <tr>\n",
              "      <th>0</th>\n",
              "      <td>91-30104091_1993-02-16_2012.jpg</td>\n",
              "      <td>rotated_left</td>\n",
              "    </tr>\n",
              "    <tr>\n",
              "      <th>1</th>\n",
              "      <td>94-12758794_1970-09-19_2009.jpg</td>\n",
              "      <td>rotated_right</td>\n",
              "    </tr>\n",
              "    <tr>\n",
              "      <th>2</th>\n",
              "      <td>93-3023093_1951-12-03_2006.jpg</td>\n",
              "      <td>rotated_left</td>\n",
              "    </tr>\n",
              "    <tr>\n",
              "      <th>3</th>\n",
              "      <td>93-9589293_1992-05-26_2008.jpg</td>\n",
              "      <td>upright</td>\n",
              "    </tr>\n",
              "    <tr>\n",
              "      <th>4</th>\n",
              "      <td>94-6339494_1971-04-21_2008.jpg</td>\n",
              "      <td>rotated_right</td>\n",
              "    </tr>\n",
              "  </tbody>\n",
              "</table>\n",
              "</div>"
            ],
            "text/plain": [
              "                                fn          label\n",
              "0  91-30104091_1993-02-16_2012.jpg   rotated_left\n",
              "1  94-12758794_1970-09-19_2009.jpg  rotated_right\n",
              "2   93-3023093_1951-12-03_2006.jpg   rotated_left\n",
              "3   93-9589293_1992-05-26_2008.jpg        upright\n",
              "4   94-6339494_1971-04-21_2008.jpg  rotated_right"
            ]
          },
          "metadata": {
            "tags": []
          },
          "execution_count": 48
        }
      ]
    },
    {
      "cell_type": "code",
      "metadata": {
        "id": "svhW7GkYbyr4",
        "colab_type": "code",
        "colab": {}
      },
      "source": [
        "ans.to_csv(\"test.preds.csv\", encoding='utf-8', index=False)"
      ],
      "execution_count": 50,
      "outputs": []
    },
    {
      "cell_type": "code",
      "metadata": {
        "id": "n6uGCJUxcmHt",
        "colab_type": "code",
        "colab": {}
      },
      "source": [
        ""
      ],
      "execution_count": null,
      "outputs": []
    }
  ]
}